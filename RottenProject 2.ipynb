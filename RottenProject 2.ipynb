{
 "cells": [
  {
   "cell_type": "code",
   "execution_count": 1,
   "id": "eff0dd5e",
   "metadata": {},
   "outputs": [],
   "source": [
    "from urllib.request import urlopen, urlretrieve\n",
    "from bs4 import BeautifulSoup\n",
    "import pandas as pd"
   ]
  },
  {
   "cell_type": "code",
   "execution_count": 3,
   "id": "3108471d",
   "metadata": {},
   "outputs": [
    {
     "name": "stdout",
     "output_type": "stream",
     "text": [
      "                                          Titulo NotaC NotaA  \\\n",
      "0                                     The Batman    85    87   \n",
      "1                             Last Night in Soho    76    90   \n",
      "2                      We Met in Virtual Reality    94    60   \n",
      "3    Fantastic Beasts: The Secrets of Dumbledore    46    83   \n",
      "4                               The Card Counter    87    42   \n",
      "..                                           ...   ...   ...   \n",
      "145              The Secret Life of Walter Mitty    52    71   \n",
      "146                                     Sleepers    73    85   \n",
      "147                      When Harry Met Sally...    91    89   \n",
      "148                                  Scary Movie    52    43   \n",
      "149                          That Awkward Moment    22    46   \n",
      "\n",
      "                                                Poster  \n",
      "0    /assets/pizza-pie/images/poster_default.c8c896...  \n",
      "1    /assets/pizza-pie/images/poster_default.c8c896...  \n",
      "2    /assets/pizza-pie/images/poster_default.c8c896...  \n",
      "3    /assets/pizza-pie/images/poster_default.c8c896...  \n",
      "4    /assets/pizza-pie/images/poster_default.c8c896...  \n",
      "..                                                 ...  \n",
      "145  /assets/pizza-pie/images/poster_default.c8c896...  \n",
      "146  /assets/pizza-pie/images/poster_default.c8c896...  \n",
      "147  /assets/pizza-pie/images/poster_default.c8c896...  \n",
      "148  /assets/pizza-pie/images/poster_default.c8c896...  \n",
      "149  /assets/pizza-pie/images/poster_default.c8c896...  \n",
      "\n",
      "[150 rows x 4 columns]\n"
     ]
    }
   ],
   "source": [
    "#Obtendo HTML\n",
    "filmes=[]\n",
    "for i in range (50):\n",
    "    response=urlopen('https://www.rottentomatoes.com/browse/movies_at_home/affiliates:hbo_max?page='+str(i+1))\n",
    "    html=response.read().decode('utf-8')\n",
    "    #html=''.join(html.split())\n",
    "    soup=BeautifulSoup(html, 'html.parser')\n",
    "    \n",
    "    #Obtendo as tags de interesse\n",
    "    # Método 1 -> tags = soup.find('div', {'data-id':'movies_at_home_affiliates:hbo_max'}).findAll('tile-dynamic')\n",
    "    tags=soup.find('div', {'class':'discovery-tiles__wrap'})\n",
    "    tags\n",
    "    \n",
    "    #Extraindo o título do catálogo HBO\n",
    "    titulos = soup.find('div', {'data-id':'movies_at_home_affiliates:hbo_max'}).findAll('span')\n",
    "    Titulos=[]\n",
    "    for titulo in titulos:\n",
    "        x=titulo.text.replace('\\r\\n        ', '')\n",
    "        y=x.replace('    ', '')\n",
    "        Titulos.append(y)\n",
    "        \n",
    "    #Extraindo a nota da crítica\n",
    "    notacritc = soup.find('div', {'data-id':'movies_at_home_affiliates:hbo_max'}).findAll('score-pairs')\n",
    "    NotasCritica=[]\n",
    "    for nota in notacritc:\n",
    "        NotasCritica.append(nota.get('criticsscore')) \n",
    "        \n",
    "    #Extraindo a nota da audiência \n",
    "    notacritc = soup.find('div', {'data-id':'movies_at_home_affiliates:hbo_max'}).findAll('score-pairs')\n",
    "    NotasAudiencia=[]\n",
    "    for nota in notacritc:\n",
    "        NotasAudiencia.append(nota.get('audiencescore'))\n",
    "        \n",
    "    #Extraindo posters\n",
    "    imagens = soup.find('div', {'data-id':'movies_at_home_affiliates:hbo_max'}).findAll('img')\n",
    "    Imagens=[]\n",
    "    for imagem in imagens:\n",
    "        Imagens.append(imagem.get('src'))\n",
    "df = pd.DataFrame({'Titulo':Titulos, 'NotaC':NotasCritica, 'NotaA':NotasAudiencia, \"Poster\":Imagens})\n",
    "print(df)\n",
    "df.to_csv('dataset.csv', sep=';', index=False, encoding='utf-8-sig')"
   ]
  }
 ],
 "metadata": {
  "kernelspec": {
   "display_name": "Python 3 (ipykernel)",
   "language": "python",
   "name": "python3"
  },
  "language_info": {
   "codemirror_mode": {
    "name": "ipython",
    "version": 3
   },
   "file_extension": ".py",
   "mimetype": "text/x-python",
   "name": "python",
   "nbconvert_exporter": "python",
   "pygments_lexer": "ipython3",
   "version": "3.9.12"
  }
 },
 "nbformat": 4,
 "nbformat_minor": 5
}
